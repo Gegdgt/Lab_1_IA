{
 "cells": [
  {
   "cell_type": "markdown",
   "id": "506c6726-d5d8-4f49-a4ec-0e97bf0a9af0",
   "metadata": {},
   "source": [
    "# Laboratorio 1 - Inteligencia Artificial"
   ]
  },
  {
   "cell_type": "markdown",
   "id": "2a9970b8-ba3f-495c-be14-25ea9e8cfab8",
   "metadata": {},
   "source": [
    "##### José Pablo Orellana        - 21970\n",
    "##### Diego Alberto Leiva        - 21752\n",
    "##### Gabriel Estuardo García - 21352"
   ]
  },
  {
   "cell_type": "markdown",
   "id": "88a93fbd-0885-403e-8518-2ec708d0dea6",
   "metadata": {},
   "source": [
    "# Task 1 - Regresión Lineal"
   ]
  },
  {
   "cell_type": "markdown",
   "id": "e133df65-e31f-42fe-afda-2669f0b144f8",
   "metadata": {},
   "source": [
    "#### Considera un modelo de regresión lineal con dos características, X₁ y X₂, y sus pesos correspondientes w₁ y w₂. Si el modelo predice una salida y mediante la ecuación y = 2w₁X₁ + 3w₂X₂ + 1, ¿cuál es la interpretación del coeficiente 3w₂ en el contexto del modelo?"
   ]
  },
  {
   "cell_type": "markdown",
   "id": "68669cfc-d239-46c1-adca-f36621dd52c6",
   "metadata": {},
   "source": [
    "Respuesta 1"
   ]
  },
  {
   "cell_type": "markdown",
   "id": "df6e5e13-20ec-450c-9e9d-42b97c0873b3",
   "metadata": {},
   "source": [
    "#### Explica el concepto de multicolinealidad en el contexto de la regresión lineal. ¿Cómo afecta la multicolinealidad a la interpretación de los coeficientes de regresión individuales?"
   ]
  },
  {
   "cell_type": "markdown",
   "id": "c00859da-edfa-4777-b317-a6b371d34127",
   "metadata": {},
   "source": [
    "Respuesta 2"
   ]
  },
  {
   "cell_type": "markdown",
   "id": "10d800f0-09a4-4b2f-80ce-c349033bf9e1",
   "metadata": {},
   "source": [
    "# Task 2 - Clasificación de Sitios de Phishing Regresión Logística y KNN"
   ]
  },
  {
   "cell_type": "markdown",
   "id": "1d0521e8-79bb-4758-bf0b-dd4e3132a330",
   "metadata": {},
   "source": [
    "Respuesta 1"
   ]
  },
  {
   "cell_type": "markdown",
   "id": "72d8be79-b553-429c-814d-6de3206d4d48",
   "metadata": {},
   "source": [
    "# Task 2.1 - Regresión Logística"
   ]
  },
  {
   "cell_type": "markdown",
   "id": "c3401597-4478-4f41-8307-c5f2771a6697",
   "metadata": {},
   "source": [
    "Respuestas"
   ]
  },
  {
   "cell_type": "markdown",
   "id": "c6f0631c-5a9a-4c80-8b04-7f302e7e92ab",
   "metadata": {},
   "source": [
    "# Task 2.2 - K-Nearest Neighbors"
   ]
  },
  {
   "cell_type": "code",
   "execution_count": null,
   "id": "6530404f-2149-4922-a1ae-ff2f7a9515ac",
   "metadata": {},
   "outputs": [],
   "source": []
  }
 ],
 "metadata": {
  "kernelspec": {
   "display_name": "Python 3 (ipykernel)",
   "language": "python",
   "name": "python3"
  },
  "language_info": {
   "codemirror_mode": {
    "name": "ipython",
    "version": 3
   },
   "file_extension": ".py",
   "mimetype": "text/x-python",
   "name": "python",
   "nbconvert_exporter": "python",
   "pygments_lexer": "ipython3",
   "version": "3.12.1"
  }
 },
 "nbformat": 4,
 "nbformat_minor": 5
}
