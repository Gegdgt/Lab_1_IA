{
 "cells": [
  {
   "cell_type": "markdown",
   "id": "506c6726-d5d8-4f49-a4ec-0e97bf0a9af0",
   "metadata": {},
   "source": [
    "## Task 1"
   ]
  },
  {
   "cell_type": "markdown",
   "id": "2a9970b8-ba3f-495c-be14-25ea9e8cfab8",
   "metadata": {},
   "source": [
    "##### Considera un modelo de regresión lineal con dos características, X₁ y X₂, y sus pesos correspondientes w₁ y w₂. Si el modelo predice una salida y mediante la ecuación y = 2w₁X₁ + 3w₂X₂ + 1, ¿cuál es la interpretación del coeficiente 3w₂ en el contexto del modelo?"
   ]
  },
  {
   "cell_type": "markdown",
   "id": "29039451-5e8b-44a1-8e64-63c15e7af508",
   "metadata": {},
   "source": [
    "Respuesta 1"
   ]
  },
  {
   "cell_type": "markdown",
   "id": "a0407b1c-6c60-4445-9c4c-19ff20f45068",
   "metadata": {},
   "source": [
    "##### Explica el concepto de multicolinealidad en el contexto de la regresión lineal. ¿Cómo afecta la multicolinealidad a la interpretación de los coeficientes de regresión individuales?"
   ]
  },
  {
   "cell_type": "markdown",
   "id": "c88f8b88-6913-4dad-b238-41bbc9e98141",
   "metadata": {},
   "source": [
    "Respuesta 2"
   ]
  },
  {
   "cell_type": "code",
   "execution_count": null,
   "id": "1569983c-e739-457c-9b49-88a507e5b273",
   "metadata": {},
   "outputs": [],
   "source": []
  }
 ],
 "metadata": {
  "kernelspec": {
   "display_name": "Python 3 (ipykernel)",
   "language": "python",
   "name": "python3"
  },
  "language_info": {
   "codemirror_mode": {
    "name": "ipython",
    "version": 3
   },
   "file_extension": ".py",
   "mimetype": "text/x-python",
   "name": "python",
   "nbconvert_exporter": "python",
   "pygments_lexer": "ipython3",
   "version": "3.12.1"
  }
 },
 "nbformat": 4,
 "nbformat_minor": 5
}
